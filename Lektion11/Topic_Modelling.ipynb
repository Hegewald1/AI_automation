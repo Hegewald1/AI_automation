{
 "cells": [
  {
   "cell_type": "code",
   "execution_count": 14,
   "id": "6c5249d3",
   "metadata": {},
   "outputs": [],
   "source": [
    "# We will be using the 20-Newsgroups dataset for this exercise. \n",
    "#This version of the dataset contains about 11k newsgroups posts from 20 different topics."
   ]
  },
  {
   "cell_type": "code",
   "execution_count": 15,
   "id": "f325a2a1",
   "metadata": {},
   "outputs": [],
   "source": [
    "import re\n",
    "import numpy as np\n",
    "import pandas as pd\n",
    "from pprint import pprint"
   ]
  },
  {
   "cell_type": "code",
   "execution_count": 16,
   "id": "75772485",
   "metadata": {},
   "outputs": [
    {
     "name": "stdout",
     "output_type": "stream",
     "text": [
      "['rec.autos' 'comp.sys.mac.hardware' 'comp.graphics' 'sci.space'\n",
      " 'talk.politics.guns' 'sci.med' 'comp.sys.ibm.pc.hardware'\n",
      " 'comp.os.ms-windows.misc' 'rec.motorcycles' 'talk.religion.misc'\n",
      " 'misc.forsale' 'alt.atheism' 'sci.electronics' 'comp.windows.x'\n",
      " 'rec.sport.hockey' 'rec.sport.baseball' 'soc.religion.christian'\n",
      " 'talk.politics.mideast' 'talk.politics.misc' 'sci.crypt']\n"
     ]
    },
    {
     "data": {
      "text/html": [
       "<div>\n",
       "<style scoped>\n",
       "    .dataframe tbody tr th:only-of-type {\n",
       "        vertical-align: middle;\n",
       "    }\n",
       "\n",
       "    .dataframe tbody tr th {\n",
       "        vertical-align: top;\n",
       "    }\n",
       "\n",
       "    .dataframe thead th {\n",
       "        text-align: right;\n",
       "    }\n",
       "</style>\n",
       "<table border=\"1\" class=\"dataframe\">\n",
       "  <thead>\n",
       "    <tr style=\"text-align: right;\">\n",
       "      <th></th>\n",
       "      <th>content</th>\n",
       "      <th>target</th>\n",
       "      <th>target_names</th>\n",
       "    </tr>\n",
       "  </thead>\n",
       "  <tbody>\n",
       "    <tr>\n",
       "      <th>0</th>\n",
       "      <td>From: lerxst@wam.umd.edu (where's my thing)\\nS...</td>\n",
       "      <td>7</td>\n",
       "      <td>rec.autos</td>\n",
       "    </tr>\n",
       "    <tr>\n",
       "      <th>1</th>\n",
       "      <td>From: guykuo@carson.u.washington.edu (Guy Kuo)...</td>\n",
       "      <td>4</td>\n",
       "      <td>comp.sys.mac.hardware</td>\n",
       "    </tr>\n",
       "    <tr>\n",
       "      <th>2</th>\n",
       "      <td>From: twillis@ec.ecn.purdue.edu (Thomas E Will...</td>\n",
       "      <td>4</td>\n",
       "      <td>comp.sys.mac.hardware</td>\n",
       "    </tr>\n",
       "    <tr>\n",
       "      <th>3</th>\n",
       "      <td>From: jgreen@amber (Joe Green)\\nSubject: Re: W...</td>\n",
       "      <td>1</td>\n",
       "      <td>comp.graphics</td>\n",
       "    </tr>\n",
       "    <tr>\n",
       "      <th>4</th>\n",
       "      <td>From: jcm@head-cfa.harvard.edu (Jonathan McDow...</td>\n",
       "      <td>14</td>\n",
       "      <td>sci.space</td>\n",
       "    </tr>\n",
       "  </tbody>\n",
       "</table>\n",
       "</div>"
      ],
      "text/plain": [
       "                                             content  target  \\\n",
       "0  From: lerxst@wam.umd.edu (where's my thing)\\nS...       7   \n",
       "1  From: guykuo@carson.u.washington.edu (Guy Kuo)...       4   \n",
       "2  From: twillis@ec.ecn.purdue.edu (Thomas E Will...       4   \n",
       "3  From: jgreen@amber (Joe Green)\\nSubject: Re: W...       1   \n",
       "4  From: jcm@head-cfa.harvard.edu (Jonathan McDow...      14   \n",
       "\n",
       "            target_names  \n",
       "0              rec.autos  \n",
       "1  comp.sys.mac.hardware  \n",
       "2  comp.sys.mac.hardware  \n",
       "3          comp.graphics  \n",
       "4              sci.space  "
      ]
     },
     "execution_count": 16,
     "metadata": {},
     "output_type": "execute_result"
    }
   ],
   "source": [
    "# Import Dataset\n",
    "df = pd.read_json('newsgroups.json')\n",
    "print(df.target_names.unique())\n",
    "df.head()"
   ]
  },
  {
   "cell_type": "code",
   "execution_count": 17,
   "id": "47a69d46",
   "metadata": {},
   "outputs": [],
   "source": [
    "# Convert to list\n",
    "data = df.content.values.tolist()"
   ]
  },
  {
   "cell_type": "code",
   "execution_count": 18,
   "id": "9119c236",
   "metadata": {},
   "outputs": [],
   "source": [
    "# Remove Emails\n",
    "data = [re.sub('\\S*@\\S*\\s?', '', sent) for sent in data]"
   ]
  },
  {
   "cell_type": "code",
   "execution_count": 19,
   "id": "d1d4cf06",
   "metadata": {},
   "outputs": [],
   "source": [
    "# Remove new line characters\n",
    "data = [re.sub('\\s+', ' ', sent) for sent in data]"
   ]
  },
  {
   "cell_type": "code",
   "execution_count": 20,
   "id": "d7af79c4",
   "metadata": {},
   "outputs": [],
   "source": [
    "# Remove distracting single quotes\n",
    "data = [re.sub(\"\\'\", \"\", sent) for sent in data]"
   ]
  },
  {
   "cell_type": "code",
   "execution_count": 21,
   "id": "631d9dd2",
   "metadata": {},
   "outputs": [
    {
     "name": "stdout",
     "output_type": "stream",
     "text": [
      "['From: (wheres my thing) Subject: WHAT car is this!? Nntp-Posting-Host: '\n",
      " 'rac3.wam.umd.edu Organization: University of Maryland, College Park Lines: '\n",
      " '15 I was wondering if anyone out there could enlighten me on this car I saw '\n",
      " 'the other day. It was a 2-door sports car, looked to be from the late 60s/ '\n",
      " 'early 70s. It was called a Bricklin. The doors were really small. In '\n",
      " 'addition, the front bumper was separate from the rest of the body. This is '\n",
      " 'all I know. If anyone can tellme a model name, engine specs, years of '\n",
      " 'production, where this car is made, history, or whatever info you have on '\n",
      " 'this funky looking car, please e-mail. Thanks, - IL ---- brought to you by '\n",
      " 'your neighborhood Lerxst ---- ']\n"
     ]
    }
   ],
   "source": [
    "pprint(data[:1])"
   ]
  },
  {
   "cell_type": "code",
   "execution_count": 22,
   "id": "9f732f08",
   "metadata": {},
   "outputs": [],
   "source": [
    "#After removing the emails and extra spaces, the text still looks messy. \n",
    "#It is not ready for the LDA to consume. You need to break down each sentence into a\n",
    "#list of words through tokenization, while clearing up all the messy text in the process."
   ]
  },
  {
   "cell_type": "code",
   "execution_count": 23,
   "id": "8e6f1e53",
   "metadata": {},
   "outputs": [],
   "source": [
    "# Gensim\n",
    "import gensim\n",
    "import gensim.corpora as corpora\n",
    "from gensim.utils import simple_preprocess\n",
    "from gensim.models import CoherenceModel"
   ]
  },
  {
   "cell_type": "code",
   "execution_count": 24,
   "id": "2d47303b",
   "metadata": {},
   "outputs": [],
   "source": [
    "def sent_to_words(sentences):\n",
    "    for sentence in sentences:\n",
    "        yield(gensim.utils.simple_preprocess(str(sentence), deacc=True))  # deacc=True removes punctuations"
   ]
  },
  {
   "cell_type": "code",
   "execution_count": 25,
   "id": "c306cd1e",
   "metadata": {},
   "outputs": [],
   "source": [
    "data_words = list(sent_to_words(data))"
   ]
  },
  {
   "cell_type": "code",
   "execution_count": 26,
   "id": "8e6fa240",
   "metadata": {},
   "outputs": [
    {
     "name": "stdout",
     "output_type": "stream",
     "text": [
      "[['from', 'wheres', 'my', 'thing', 'subject', 'what', 'car', 'is', 'this', 'nntp', 'posting', 'host', 'rac', 'wam', 'umd', 'edu', 'organization', 'university', 'of', 'maryland', 'college', 'park', 'lines', 'was', 'wondering', 'if', 'anyone', 'out', 'there', 'could', 'enlighten', 'me', 'on', 'this', 'car', 'saw', 'the', 'other', 'day', 'it', 'was', 'door', 'sports', 'car', 'looked', 'to', 'be', 'from', 'the', 'late', 'early', 'it', 'was', 'called', 'bricklin', 'the', 'doors', 'were', 'really', 'small', 'in', 'addition', 'the', 'front', 'bumper', 'was', 'separate', 'from', 'the', 'rest', 'of', 'the', 'body', 'this', 'is', 'all', 'know', 'if', 'anyone', 'can', 'tellme', 'model', 'name', 'engine', 'specs', 'years', 'of', 'production', 'where', 'this', 'car', 'is', 'made', 'history', 'or', 'whatever', 'info', 'you', 'have', 'on', 'this', 'funky', 'looking', 'car', 'please', 'mail', 'thanks', 'il', 'brought', 'to', 'you', 'by', 'your', 'neighborhood', 'lerxst']]\n"
     ]
    }
   ],
   "source": [
    "print(data_words[:1])"
   ]
  },
  {
   "cell_type": "code",
   "execution_count": 27,
   "id": "22af838c",
   "metadata": {},
   "outputs": [],
   "source": [
    "#Bigrams are two words frequently occurring together in the document. Trigrams are 3 words frequently occurring.\n",
    "#\n",
    "#Some examples in our example are: ‘front_bumper’, ‘oil_leak’, ‘maryland_college_park’ etc."
   ]
  },
  {
   "cell_type": "code",
   "execution_count": 28,
   "id": "180099d2",
   "metadata": {},
   "outputs": [],
   "source": [
    "# Build the bigram and trigram models\n",
    "bigram = gensim.models.Phrases(data_words, min_count=5, threshold=100) # higher threshold fewer phrases.\n",
    "trigram = gensim.models.Phrases(bigram[data_words], threshold=100)  "
   ]
  },
  {
   "cell_type": "code",
   "execution_count": 29,
   "id": "81d13eda",
   "metadata": {},
   "outputs": [],
   "source": [
    "# Faster way to get a sentence clubbed as a trigram/bigram\n",
    "bigram_mod = gensim.models.phrases.Phraser(bigram)\n",
    "trigram_mod = gensim.models.phrases.Phraser(trigram)"
   ]
  },
  {
   "cell_type": "code",
   "execution_count": 30,
   "id": "a7da0223",
   "metadata": {},
   "outputs": [
    {
     "name": "stdout",
     "output_type": "stream",
     "text": [
      "['from', 'wheres', 'my', 'thing', 'subject', 'what', 'car', 'is', 'this', 'nntp_posting_host', 'rac_wam_umd_edu', 'organization', 'university', 'of', 'maryland_college_park', 'lines', 'was', 'wondering', 'if', 'anyone', 'out', 'there', 'could', 'enlighten', 'me', 'on', 'this', 'car', 'saw', 'the', 'other', 'day', 'it', 'was', 'door', 'sports', 'car', 'looked', 'to', 'be', 'from', 'the', 'late', 'early', 'it', 'was', 'called', 'bricklin', 'the', 'doors', 'were', 'really', 'small', 'in', 'addition', 'the', 'front_bumper', 'was', 'separate', 'from', 'the', 'rest', 'of', 'the', 'body', 'this', 'is', 'all', 'know', 'if', 'anyone', 'can', 'tellme', 'model', 'name', 'engine', 'specs', 'years', 'of', 'production', 'where', 'this', 'car', 'is', 'made', 'history', 'or', 'whatever', 'info', 'you', 'have', 'on', 'this', 'funky', 'looking', 'car', 'please', 'mail', 'thanks', 'il', 'brought', 'to', 'you', 'by', 'your', 'neighborhood', 'lerxst']\n"
     ]
    }
   ],
   "source": [
    "# See trigram example\n",
    "print(trigram_mod[bigram_mod[data_words[0]]])"
   ]
  },
  {
   "cell_type": "code",
   "execution_count": 31,
   "id": "5d2a7276",
   "metadata": {},
   "outputs": [],
   "source": [
    "# Define functions for stopwords, bigrams, trigrams and lemmatization\n",
    "def remove_stopwords(texts):\n",
    "    return [[word for word in simple_preprocess(str(doc)) if word not in stop_words] for doc in texts]\n",
    "\n",
    "def make_bigrams(texts):\n",
    "    return [bigram_mod[doc] for doc in texts]\n",
    "\n",
    "def make_trigrams(texts):\n",
    "    return [trigram_mod[bigram_mod[doc]] for doc in texts]\n",
    "\n",
    "def lemmatization(texts, allowed_postags=['NOUN', 'ADJ', 'VERB', 'ADV']):\n",
    "    \"\"\"https://spacy.io/api/annotation\"\"\"\n",
    "    texts_out = []\n",
    "    for sent in texts:\n",
    "        doc = nlp(\" \".join(sent)) \n",
    "        texts_out.append([token.lemma_ for token in doc if token.pos_ in allowed_postags])\n",
    "    return texts_out"
   ]
  },
  {
   "cell_type": "code",
   "execution_count": 32,
   "id": "3bd1790d",
   "metadata": {},
   "outputs": [
    {
     "name": "stderr",
     "output_type": "stream",
     "text": [
      "[nltk_data] Downloading package stopwords to /home/madsh/nltk_data...\n",
      "[nltk_data]   Unzipping corpora/stopwords.zip.\n"
     ]
    },
    {
     "data": {
      "text/plain": [
       "True"
      ]
     },
     "execution_count": 32,
     "metadata": {},
     "output_type": "execute_result"
    }
   ],
   "source": [
    "import nltk; nltk.download('stopwords')"
   ]
  },
  {
   "cell_type": "code",
   "execution_count": 33,
   "id": "46fa5599",
   "metadata": {},
   "outputs": [],
   "source": [
    "# NLTK Stop words\n",
    "from nltk.corpus import stopwords\n",
    "stop_words = stopwords.words('english')\n",
    "stop_words.extend(['from', 'subject', 're', 'edu', 'use'])"
   ]
  },
  {
   "cell_type": "code",
   "execution_count": 34,
   "id": "8065c09f",
   "metadata": {},
   "outputs": [],
   "source": [
    "# Remove Stop Words\n",
    "data_words_nostops = remove_stopwords(data_words)\n",
    "\n",
    "# Form Bigrams\n",
    "data_words_bigrams = make_bigrams(data_words_nostops)"
   ]
  },
  {
   "cell_type": "code",
   "execution_count": 35,
   "id": "d1b0f08d",
   "metadata": {},
   "outputs": [],
   "source": [
    "# Run in terminal or command prompt\n",
    "# python3 -m spacy download en"
   ]
  },
  {
   "cell_type": "code",
   "execution_count": 36,
   "id": "1d2422ad",
   "metadata": {},
   "outputs": [
    {
     "name": "stderr",
     "output_type": "stream",
     "text": [
      "2022-05-06 10:47:28.010324: W tensorflow/stream_executor/platform/default/dso_loader.cc:64] Could not load dynamic library 'libcudart.so.11.0'; dlerror: libcudart.so.11.0: cannot open shared object file: No such file or directory\n",
      "2022-05-06 10:47:28.010350: I tensorflow/stream_executor/cuda/cudart_stub.cc:29] Ignore above cudart dlerror if you do not have a GPU set up on your machine.\n"
     ]
    }
   ],
   "source": [
    "import spacy"
   ]
  },
  {
   "cell_type": "code",
   "execution_count": 37,
   "id": "92528da8",
   "metadata": {},
   "outputs": [],
   "source": [
    "# Initialize spacy 'en' model, keeping only tagger component (for efficiency)\n",
    "# python3 -m spacy download en\n",
    "nlp = spacy.load(\"en_core_web_sm\")"
   ]
  },
  {
   "cell_type": "code",
   "execution_count": 39,
   "id": "114525f8",
   "metadata": {},
   "outputs": [],
   "source": [
    "# Do lemmatization keeping only noun, adj, vb, adv\n",
    "data_lemmatized = lemmatization(data_words_bigrams, allowed_postags=['NOUN', 'ADJ', 'VERB', 'ADV'])"
   ]
  },
  {
   "cell_type": "code",
   "execution_count": 40,
   "id": "ab8f7f34",
   "metadata": {},
   "outputs": [],
   "source": [
    "# Might take a little while to get here.. A couple of minutes perhaps..."
   ]
  },
  {
   "cell_type": "code",
   "execution_count": 41,
   "id": "50616030",
   "metadata": {},
   "outputs": [
    {
     "name": "stdout",
     "output_type": "stream",
     "text": [
      "[['thing', 'car', 'nntp_poste', 'host', 'rac_wam', 'park', 'line', 'wonder', 'enlighten', 'car', 'see', 'day', 'door', 'sport', 'car', 'look', 'late', 'early', 'call', 'door', 'really', 'small', 'addition', 'front_bumper', 'separate', 'rest', 'body', 'know', 'tellme', 'model', 'name', 'engine', 'spec', 'year', 'production', 'car', 'make', 'history', 'info', 'funky', 'look', 'car', 'mail', 'thank', 'bring', 'neighborhood', 'lerxst']]\n"
     ]
    }
   ],
   "source": [
    "print(data_lemmatized[:1])"
   ]
  },
  {
   "cell_type": "code",
   "execution_count": 42,
   "id": "17c6d960",
   "metadata": {},
   "outputs": [],
   "source": [
    "#The two main inputs to the LDA topic model are the dictionary(id2word) \n",
    "# and the corpus. Let’s create them."
   ]
  },
  {
   "cell_type": "code",
   "execution_count": 43,
   "id": "35663247",
   "metadata": {},
   "outputs": [],
   "source": [
    "# Create Dictionary\n",
    "id2word = corpora.Dictionary(data_lemmatized)"
   ]
  },
  {
   "cell_type": "code",
   "execution_count": 44,
   "id": "a71c925f",
   "metadata": {},
   "outputs": [],
   "source": [
    "# Create Corpus\n",
    "texts = data_lemmatized"
   ]
  },
  {
   "cell_type": "code",
   "execution_count": 45,
   "id": "4cd5ca4f",
   "metadata": {},
   "outputs": [],
   "source": [
    "# Term Document Frequency\n",
    "corpus = [id2word.doc2bow(text) for text in texts]"
   ]
  },
  {
   "cell_type": "code",
   "execution_count": 46,
   "id": "bf6a8183",
   "metadata": {},
   "outputs": [
    {
     "name": "stdout",
     "output_type": "stream",
     "text": [
      "[[(0, 1), (1, 1), (2, 1), (3, 1), (4, 5), (5, 1), (6, 2), (7, 1), (8, 1), (9, 1), (10, 1), (11, 1), (12, 1), (13, 1), (14, 1), (15, 1), (16, 1), (17, 1), (18, 1), (19, 2), (20, 1), (21, 1), (22, 1), (23, 1), (24, 1), (25, 1), (26, 1), (27, 1), (28, 1), (29, 1), (30, 1), (31, 1), (32, 1), (33, 1), (34, 1), (35, 1), (36, 1), (37, 1), (38, 1), (39, 1), (40, 1)]]\n"
     ]
    }
   ],
   "source": [
    "# View\n",
    "print(corpus[:1])"
   ]
  },
  {
   "cell_type": "code",
   "execution_count": 47,
   "id": "3ff9bd2b",
   "metadata": {},
   "outputs": [],
   "source": [
    "#Gensim creates a unique id for each word in the document. \n",
    "#The produced corpus shown above is a mapping of (word_id, word_frequency).\n",
    "\n",
    "#For example, (0, 1) above implies, word id 0 occurs once in the first document.\n",
    "#Likewise, word id 1 occurs twice and so on"
   ]
  },
  {
   "cell_type": "code",
   "execution_count": 48,
   "id": "0c1a2b47",
   "metadata": {},
   "outputs": [
    {
     "data": {
      "text/plain": [
       "'addition'"
      ]
     },
     "execution_count": 48,
     "metadata": {},
     "output_type": "execute_result"
    }
   ],
   "source": [
    "#If you want to see what word a given id corresponds to, pass the id as a key to the dictionary.\n",
    "id2word[0]"
   ]
  },
  {
   "cell_type": "code",
   "execution_count": 49,
   "id": "4aa03bf0",
   "metadata": {},
   "outputs": [
    {
     "data": {
      "text/plain": [
       "[[('addition', 1),\n",
       "  ('body', 1),\n",
       "  ('bring', 1),\n",
       "  ('call', 1),\n",
       "  ('car', 5),\n",
       "  ('day', 1),\n",
       "  ('door', 2),\n",
       "  ('early', 1),\n",
       "  ('engine', 1),\n",
       "  ('enlighten', 1),\n",
       "  ('front_bumper', 1),\n",
       "  ('funky', 1),\n",
       "  ('history', 1),\n",
       "  ('host', 1),\n",
       "  ('info', 1),\n",
       "  ('know', 1),\n",
       "  ('late', 1),\n",
       "  ('lerxst', 1),\n",
       "  ('line', 1),\n",
       "  ('look', 2),\n",
       "  ('mail', 1),\n",
       "  ('make', 1),\n",
       "  ('model', 1),\n",
       "  ('name', 1),\n",
       "  ('neighborhood', 1),\n",
       "  ('nntp_poste', 1),\n",
       "  ('park', 1),\n",
       "  ('production', 1),\n",
       "  ('rac_wam', 1),\n",
       "  ('really', 1),\n",
       "  ('rest', 1),\n",
       "  ('see', 1),\n",
       "  ('separate', 1),\n",
       "  ('small', 1),\n",
       "  ('spec', 1),\n",
       "  ('sport', 1),\n",
       "  ('tellme', 1),\n",
       "  ('thank', 1),\n",
       "  ('thing', 1),\n",
       "  ('wonder', 1),\n",
       "  ('year', 1)]]"
      ]
     },
     "execution_count": 49,
     "metadata": {},
     "output_type": "execute_result"
    }
   ],
   "source": [
    "#Or, you can see a human-readable form of the corpus itself.\n",
    "[[(id2word[id], freq) for id, freq in cp] for cp in corpus[:1]]"
   ]
  },
  {
   "cell_type": "code",
   "execution_count": 50,
   "id": "1a453028",
   "metadata": {},
   "outputs": [],
   "source": [
    "#We have everything required to train the LDA model. \n",
    "#In addition to the corpus and dictionary, you need to provide the number of topics as well.\n",
    "\n",
    "#chunksize is the number of documents to be used in each training chunk.\n",
    "#update_every determines how often the model parameters should be updated \n",
    "#and passes is the total number of training passes."
   ]
  },
  {
   "cell_type": "code",
   "execution_count": 51,
   "id": "7a52789c",
   "metadata": {},
   "outputs": [],
   "source": [
    "# Build LDA model\n",
    "lda_model = gensim.models.ldamodel.LdaModel(corpus=corpus,\n",
    "                                           id2word=id2word,\n",
    "                                           num_topics=20, \n",
    "                                           random_state=100,\n",
    "                                           update_every=1,\n",
    "                                           chunksize=100,\n",
    "                                           passes=10,\n",
    "                                           alpha='auto',\n",
    "                                           per_word_topics=True)"
   ]
  },
  {
   "cell_type": "code",
   "execution_count": 52,
   "id": "a69a1225",
   "metadata": {},
   "outputs": [],
   "source": [
    "# Might take a little while to get here.. A couple of minutes perhaps..."
   ]
  },
  {
   "cell_type": "code",
   "execution_count": 53,
   "id": "02ec3192",
   "metadata": {},
   "outputs": [
    {
     "name": "stdout",
     "output_type": "stream",
     "text": [
      "[(0,\n",
      "  '0.022*\"get\" + 0.022*\"know\" + 0.020*\"go\" + 0.019*\"good\" + 0.019*\"think\" + '\n",
      "  '0.018*\"make\" + 0.017*\"time\" + 0.017*\"say\" + 0.016*\"see\" + 0.015*\"well\"'),\n",
      " (1,\n",
      "  '0.059*\"amount\" + 0.041*\"insurance\" + 0.041*\"pack\" + 0.040*\"warranty\" + '\n",
      "  '0.034*\"dog\" + 0.031*\"water\" + 0.030*\"workstation\" + 0.029*\"damage\" + '\n",
      "  '0.025*\"probe\" + 0.021*\"mph\"'),\n",
      " (2,\n",
      "  '0.163*\"line\" + 0.112*\"write\" + 0.101*\"organization\" + 0.084*\"article\" + '\n",
      "  '0.064*\"nntp_poste\" + 0.058*\"host\" + 0.032*\"reply\" + 0.029*\"thank\" + '\n",
      "  '0.020*\"university\" + 0.015*\"post\"'),\n",
      " (3,\n",
      "  '0.022*\"people\" + 0.022*\"believe\" + 0.019*\"evidence\" + 0.019*\"reason\" + '\n",
      "  '0.018*\"say\" + 0.013*\"claim\" + 0.013*\"question\" + 0.012*\"mean\" + '\n",
      "  '0.011*\"fact\" + 0.011*\"sense\"'),\n",
      " (4,\n",
      "  '0.114*\"team\" + 0.108*\"game\" + 0.075*\"play\" + 0.042*\"year\" + 0.037*\"season\" '\n",
      "  '+ 0.029*\"trade\" + 0.028*\"score\" + 0.022*\"division\" + 0.019*\"pen\" + '\n",
      "  '0.018*\"baseball\"'),\n",
      " (5,\n",
      "  '0.049*\"file\" + 0.047*\"program\" + 0.045*\"window\" + 0.024*\"software\" + '\n",
      "  '0.023*\"image\" + 0.022*\"version\" + 0.021*\"entry\" + 0.018*\"problem\" + '\n",
      "  '0.018*\"application\" + 0.018*\"screen\"'),\n",
      " (6,\n",
      "  '0.684*\"ax\" + 0.014*\"kid\" + 0.012*\"cop\" + 0.011*\"market\" + 0.011*\"round\" + '\n",
      "  '0.010*\"catch\" + 0.008*\"cap\" + 0.008*\"dod\" + 0.007*\"max\" + 0.007*\"finish\"'),\n",
      " (7,\n",
      "  '0.038*\"wing\" + 0.038*\"safety\" + 0.031*\"air\" + 0.025*\"insist\" + 0.025*\"hot\" '\n",
      "  '+ 0.022*\"tax\" + 0.020*\"militia\" + 0.020*\"fire\" + 0.019*\"cycle\" + '\n",
      "  '0.018*\"wear\"'),\n",
      " (8,\n",
      "  '0.088*\"die\" + 0.084*\"truth\" + 0.083*\"god\" + 0.047*\"logic\" + '\n",
      "  '0.038*\"convince\" + 0.030*\"moral\" + 0.022*\"motto\" + 0.022*\"german\" + '\n",
      "  '0.021*\"dream\" + 0.020*\"baby\"'),\n",
      " (9,\n",
      "  '0.117*\"gun\" + 0.043*\"shoot\" + 0.039*\"weapon\" + 0.038*\"police\" + '\n",
      "  '0.036*\"crime\" + 0.030*\"criminal\" + 0.025*\"law\" + 0.023*\"cd\" + '\n",
      "  '0.022*\"federal\" + 0.020*\"past\"'),\n",
      " (10,\n",
      "  '0.084*\"space\" + 0.029*\"earth\" + 0.023*\"launch\" + 0.021*\"headache\" + '\n",
      "  '0.020*\"mission\" + 0.020*\"orbit\" + 0.019*\"mount\" + 0.019*\"moon\" + '\n",
      "  '0.017*\"scientific\" + 0.017*\"satellite\"'),\n",
      " (11,\n",
      "  '0.088*\"physical\" + 0.049*\"goal\" + 0.044*\"community\" + 0.032*\"treatment\" + '\n",
      "  '0.028*\"doctor\" + 0.028*\"animal\" + 0.026*\"wife\" + 0.024*\"son\" + '\n",
      "  '0.023*\"father\" + 0.022*\"anti\"'),\n",
      " (12,\n",
      "  '0.119*\"drive\" + 0.070*\"car\" + 0.047*\"driver\" + 0.030*\"speed\" + 0.028*\"fast\" '\n",
      "  '+ 0.025*\"slow\" + 0.019*\"scsi\" + 0.019*\"engine\" + 0.019*\"review\" + '\n",
      "  '0.017*\"performance\"'),\n",
      " (13,\n",
      "  '0.027*\"number\" + 0.017*\"name\" + 0.016*\"change\" + 0.014*\"list\" + '\n",
      "  '0.013*\"large\" + 0.011*\"small\" + 0.011*\"set\" + 0.010*\"free\" + 0.010*\"report\" '\n",
      "  '+ 0.010*\"read\"'),\n",
      " (14,\n",
      "  '0.054*\"session\" + 0.037*\"configuration\" + 0.036*\"role\" + 0.035*\"cub\" + '\n",
      "  '0.033*\"implementation\" + 0.030*\"warrant\" + 0.023*\"camera\" + '\n",
      "  '0.021*\"installation\" + 0.019*\"south\" + 0.016*\"industrial\"'),\n",
      " (15,\n",
      "  '0.035*\"price\" + 0.033*\"buy\" + 0.032*\"sell\" + 0.032*\"sale\" + 0.029*\"book\" + '\n",
      "  '0.026*\"new\" + 0.025*\"patient\" + 0.022*\"offer\" + 0.022*\"disk\" + '\n",
      "  '0.022*\"copy\"'),\n",
      " (16,\n",
      "  '0.029*\"government\" + 0.023*\"people\" + 0.022*\"child\" + 0.018*\"kill\" + '\n",
      "  '0.014*\"state\" + 0.013*\"attack\" + 0.013*\"man\" + 0.013*\"country\" + '\n",
      "  '0.011*\"public\" + 0.011*\"force\"'),\n",
      " (17,\n",
      "  '0.031*\"use\" + 0.028*\"system\" + 0.018*\"need\" + 0.017*\"key\" + 0.014*\"also\" + '\n",
      "  '0.014*\"mail\" + 0.013*\"information\" + 0.013*\"bit\" + 0.012*\"work\" + '\n",
      "  '0.012*\"computer\"'),\n",
      " (18,\n",
      "  '0.053*\"bug\" + 0.025*\"dumb\" + 0.012*\"rat\" + 0.012*\"abstract\" + '\n",
      "  '0.008*\"interactive\" + 0.006*\"caution\" + 0.002*\"canberra\" + '\n",
      "  '0.000*\"parity_error\" + 0.000*\"envelop\" + 0.000*\"printing\"'),\n",
      " (19,\n",
      "  '0.119*\"card\" + 0.067*\"cpu\" + 0.061*\"pin\" + 0.057*\"memory\" + '\n",
      "  '0.038*\"controller\" + 0.034*\"ide\" + 0.027*\"printer\" + 0.026*\"interface\" + '\n",
      "  '0.024*\"processor\" + 0.024*\"motherboard\"')]\n"
     ]
    }
   ],
   "source": [
    "# Print the Keyword in the 10 topics\n",
    "pprint(lda_model.print_topics())\n",
    "doc_lda = lda_model[corpus]"
   ]
  },
  {
   "cell_type": "code",
   "execution_count": 54,
   "id": "32b50065",
   "metadata": {},
   "outputs": [],
   "source": [
    "# How to interpret this?\n",
    "#\n",
    "# Looking at one topic you have something like:\n",
    "#'0.131*\"space\" + 0.039*\"earth\" + 0.035*\"launch\" + 0.032*\"nhl\" + '\n",
    "#\"\"  '0.031*\"orbit\" + 0.030*\"mission\" + 0.029*\"moon\" + 0.027*\"mouse\" + '\n",
    "#  '0.025*\"satellite\" + 0.023*\"period\"'),\n",
    "\n",
    "#It means the top 10 keywords that contribute to this topic are: ‘space’, ‘earth’, ‘launch’.. and so on \n",
    "#and the weight of ‘space’ on topic 0 is 0.131.\n",
    "\n",
    "#The weights reflect how important a keyword is to that topic.\n",
    "\n",
    "#Looking at these keywords, can you guess what this topic could be? \n",
    "#You may summarise it either are ‘space’ or ‘missions to space’ ?"
   ]
  },
  {
   "cell_type": "code",
   "execution_count": null,
   "id": "eb1a9812",
   "metadata": {},
   "outputs": [],
   "source": []
  }
 ],
 "metadata": {
  "kernelspec": {
   "display_name": "Python 3 (ipykernel)",
   "language": "python",
   "name": "python3"
  },
  "language_info": {
   "codemirror_mode": {
    "name": "ipython",
    "version": 3
   },
   "file_extension": ".py",
   "mimetype": "text/x-python",
   "name": "python",
   "nbconvert_exporter": "python",
   "pygments_lexer": "ipython3",
   "version": "3.8.10"
  }
 },
 "nbformat": 4,
 "nbformat_minor": 5
}
