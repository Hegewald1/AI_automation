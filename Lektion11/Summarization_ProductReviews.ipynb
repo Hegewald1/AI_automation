{
 "cells": [
  {
   "cell_type": "code",
   "execution_count": 1,
   "id": "5f5740cd",
   "metadata": {},
   "outputs": [],
   "source": [
    "#Summarization - Product reviews"
   ]
  },
  {
   "cell_type": "code",
   "execution_count": 5,
   "id": "ec28ba66",
   "metadata": {},
   "outputs": [
    {
     "name": "stderr",
     "output_type": "stream",
     "text": [
      "[nltk_data] Downloading package product_reviews_1 to\n",
      "[nltk_data]     C:\\Users\\sila\\AppData\\Roaming\\nltk_data...\n",
      "[nltk_data]   Unzipping corpora\\product_reviews_1.zip.\n"
     ]
    }
   ],
   "source": [
    "import nltk\n",
    "nltk.download('product_reviews_1')\n",
    "from gensim.summarization import summarizer"
   ]
  },
  {
   "cell_type": "code",
   "execution_count": 6,
   "id": "beb8b3d1",
   "metadata": {},
   "outputs": [
    {
     "name": "stdout",
     "output_type": "stream",
     "text": [
      "Raw Text Length:  13014\n",
      "Summary Length:  88\n",
      "Summary:  player[+2]##i bought this apex 2600 dvd player for myself at christmas because it got good reviews as a good value for the money on a variety of different sites .\n",
      "remote[-2]##we 've purchased 3 universal remotes so far-all claiming to work \" apex \" dvd players and none worked .\n",
      "##after having bought and been disappointed in another brand of dvd player , i purchased the apex ad2600 from amazon and first of all i should say it was delivered much more quickly than i had expected .\n"
     ]
    }
   ],
   "source": [
    "product_review_raw = product_reviews_1.raw('Apex_AD2600_Progressive_scan_DVD player.txt')\n",
    "product_summary = summarizer.summarize(product_review_raw,word_count=100)\n",
    "print(\"Raw Text Length: \", len(product_review_raw.split()))\n",
    "print(\"Summary Length: \", len(product_summary.split()))\n",
    "print(\"Summary: \", product_summary)"
   ]
  },
  {
   "cell_type": "code",
   "execution_count": 7,
   "id": "61043d5d",
   "metadata": {},
   "outputs": [],
   "source": [
    "#The output shows the summary text as having around 88 words, compared to 13014\n",
    "#words in the original product review. We can also look at the keywords that are extracted\n",
    "#by the summarizer:"
   ]
  },
  {
   "cell_type": "code",
   "execution_count": 8,
   "id": "7b01cb98",
   "metadata": {},
   "outputs": [
    {
     "data": {
      "text/plain": [
       "['players',\n",
       " 'dvd player',\n",
       " 'dvds',\n",
       " 'play',\n",
       " 'playing',\n",
       " 'plays',\n",
       " 'apex',\n",
       " 'picture',\n",
       " 'pictures',\n",
       " 'pictured',\n",
       " 'remotes',\n",
       " 'work',\n",
       " 'works',\n",
       " 'working',\n",
       " 'worked',\n",
       " 'customer',\n",
       " 'customers',\n",
       " 'disks types played',\n",
       " 'video',\n",
       " 'videos']"
      ]
     },
     "execution_count": 8,
     "metadata": {},
     "output_type": "execute_result"
    }
   ],
   "source": [
    "from gensim.summarization import keywords\n",
    "keywords(product_review_raw).split(\"\\n\")[0:20]"
   ]
  },
  {
   "cell_type": "code",
   "execution_count": 9,
   "id": "c3593490",
   "metadata": {},
   "outputs": [],
   "source": [
    "#The keywords module will extract the main keywords in the document. We have printed the\n",
    "#top 20 keywords in the review text:"
   ]
  },
  {
   "cell_type": "code",
   "execution_count": null,
   "id": "6f6ae313",
   "metadata": {},
   "outputs": [],
   "source": []
  }
 ],
 "metadata": {
  "kernelspec": {
   "display_name": "Python 3 (ipykernel)",
   "language": "python",
   "name": "python3"
  },
  "language_info": {
   "codemirror_mode": {
    "name": "ipython",
    "version": 3
   },
   "file_extension": ".py",
   "mimetype": "text/x-python",
   "name": "python",
   "nbconvert_exporter": "python",
   "pygments_lexer": "ipython3",
   "version": "3.7.7"
  }
 },
 "nbformat": 4,
 "nbformat_minor": 5
}
