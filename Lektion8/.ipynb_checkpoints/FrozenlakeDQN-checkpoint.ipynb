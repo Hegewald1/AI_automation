{
 "cells": [
  {
   "cell_type": "code",
   "execution_count": 1,
   "id": "298c3214",
   "metadata": {},
   "outputs": [],
   "source": [
    "# Deep Q Learning / Frozen Lake / Not Slippery / 4x4\n",
    "import gym\n",
    "import numpy as np\n",
    "import random\n",
    "import matplotlib.pyplot as plt\n",
    "import matplotlib\n",
    "import warnings\n",
    "warnings.filterwarnings(\"ignore\")\n",
    "import os\n",
    "os.environ['TF_CPP_MIN_LOG_LEVEL'] = '3'\n",
    "from keras.layers import Dense\n",
    "from keras.models import Sequential\n",
    "from tensorflow import keras\n",
    "from collections import deque"
   ]
  },
  {
   "cell_type": "code",
   "execution_count": 2,
   "id": "0facf709",
   "metadata": {},
   "outputs": [],
   "source": [
    "custom_map = [\n",
    "    'SFF',\n",
    "    'HFF',\n",
    "    'FFG'\n",
    "]"
   ]
  },
  {
   "cell_type": "code",
   "execution_count": 3,
   "id": "c4cf5963",
   "metadata": {},
   "outputs": [],
   "source": [
    "env = gym.make(\"FrozenLake-v1\", desc=custom_map, is_slippery=False)\n",
    "train_episodes=200\n",
    "test_episodes=10\n",
    "max_steps=300\n",
    "state_size = env.observation_space.n\n",
    "action_size = env.action_space.n\n",
    "batch_size=32"
   ]
  },
  {
   "cell_type": "code",
   "execution_count": 4,
   "id": "bc7567e8",
   "metadata": {},
   "outputs": [],
   "source": [
    "class Agent:\n",
    "    def __init__(self, state_size, action_size):\n",
    "        self.memory = deque(maxlen=2500)\n",
    "        self.learning_rate=0.01\n",
    "        self.epsilon=0.1\n",
    "        self.max_eps=1\n",
    "        self.min_eps=0.1\n",
    "        self.eps_decay = 0.001/3\n",
    "        self.gamma=0.9\n",
    "        self.state_size= state_size\n",
    "        self.action_size= action_size\n",
    "        self.epsilon_lst=[]\n",
    "        self.model = self.buildmodel()\n",
    "\n",
    "    def buildmodel(self):\n",
    "        model=Sequential()\n",
    "        model.add(Dense(10, input_dim=self.state_size, activation='linear'))\n",
    "        model.add(Dense(self.action_size, activation='linear'))\n",
    "        opt = keras.optimizers.Adam(learning_rate=self.learning_rate)\n",
    "        model.compile(loss='mse', optimizer=opt)\n",
    "        return model\n",
    "\n",
    "    def add_memory(self, new_state, reward, done, state, action):\n",
    "        self.memory.append((new_state, reward, done, state, action))\n",
    "\n",
    "    def action(self, state):\n",
    "        if np.random.rand() > self.epsilon:\n",
    "            return np.random.randint(0,4)\n",
    "        return np.argmax(self.model.predict(state))\n",
    "\n",
    "    def pred(self, state):\n",
    "        return np.argmax(self.model.predict(state))\n",
    "\n",
    "    def replay(self,batch_size):\n",
    "        minibatch=random.sample(self.memory, batch_size)\n",
    "        for new_state, reward, done, state, action in minibatch:\n",
    "            target= reward\n",
    "            if not done:\n",
    "                target=reward + self.gamma* np.amax(self.model.predict(new_state))\n",
    "            target_f= self.model.predict(state)\n",
    "            target_f[0][action]= target\n",
    "            self.model.fit(state, target_f, epochs=1, verbose=0)\n",
    "\n",
    "        if self.epsilon > self.min_eps:\n",
    "            self.epsilon=(self.max_eps - self.min_eps) * np.exp(-self.eps_decay*episode) + self.min_eps\n",
    "\n",
    "        self.epsilon_lst.append(self.epsilon)\n",
    "\n",
    "    def load(self, name):\n",
    "        self.model.load_weights(name)\n",
    "\n",
    "    def save(self, name):\n",
    "        self.model.save_weights(name)\n",
    "\n",
    "agent=Agent(state_size, action_size)"
   ]
  },
  {
   "cell_type": "code",
   "execution_count": 5,
   "id": "7b3c68d8",
   "metadata": {},
   "outputs": [
    {
     "name": "stdout",
     "output_type": "stream",
     "text": [
      "Episode:    0/200 and step:    0. Eps: 0.1, reward 0.0\n",
      "Episode:    1/200 and step:    0. Eps: 0.1, reward 0.0\n",
      "Episode:    2/200 and step:   35. Eps: 0.1, reward 0.0\n",
      "Episode:    3/200 and step:    1. Eps: 0.1, reward 0.0\n",
      "Episode:    4/200 and step:   19. Eps: 0.1, reward 0.0\n",
      "Episode:    5/200 and step:   11. Eps: 0.1, reward 1.0\n",
      "Episode:    6/200 and step:   19. Eps: 0.1, reward 0.0\n",
      "Episode:    7/200 and step:    0. Eps: 0.1, reward 0.0\n",
      "Episode:    8/200 and step:   14. Eps: 0.1, reward 1.0\n",
      "Episode:    9/200 and step:    1. Eps: 0.1, reward 0.0\n",
      "Episode:   10/200 and step:    5. Eps: 0.1, reward 0.0\n",
      "Episode:   11/200 and step:    8. Eps: 0.1, reward 0.0\n",
      "Episode:   12/200 and step:    9. Eps: 0.1, reward 0.0\n",
      "Episode:   13/200 and step:    0. Eps: 0.1, reward 0.0\n",
      "Episode:   14/200 and step:    0. Eps: 0.1, reward 0.0\n",
      "Episode:   15/200 and step:    0. Eps: 0.1, reward 0.0\n",
      "Episode:   16/200 and step:    2. Eps: 0.1, reward 0.0\n",
      "Episode:   17/200 and step:    3. Eps: 0.1, reward 0.0\n"
     ]
    },
    {
     "ename": "KeyboardInterrupt",
     "evalue": "",
     "output_type": "error",
     "traceback": [
      "\u001b[1;31m---------------------------------------------------------------------------\u001b[0m",
      "\u001b[1;31mKeyboardInterrupt\u001b[0m                         Traceback (most recent call last)",
      "Input \u001b[1;32mIn [5]\u001b[0m, in \u001b[0;36m<cell line: 2>\u001b[1;34m()\u001b[0m\n\u001b[0;32m     23\u001b[0m     reward_lst\u001b[38;5;241m.\u001b[39mappend(reward)\n\u001b[0;32m     25\u001b[0m     \u001b[38;5;28;01mif\u001b[39;00m \u001b[38;5;28mlen\u001b[39m(agent\u001b[38;5;241m.\u001b[39mmemory)\u001b[38;5;241m>\u001b[39m batch_size:\n\u001b[1;32m---> 26\u001b[0m         \u001b[43magent\u001b[49m\u001b[38;5;241;43m.\u001b[39;49m\u001b[43mreplay\u001b[49m\u001b[43m(\u001b[49m\u001b[43mbatch_size\u001b[49m\u001b[43m)\u001b[49m\n\u001b[0;32m     28\u001b[0m \u001b[38;5;28mprint\u001b[39m(\u001b[38;5;124m'\u001b[39m\u001b[38;5;124m Train mean \u001b[39m\u001b[38;5;132;01m% s\u001b[39;00m\u001b[38;5;124mcore= \u001b[39m\u001b[38;5;124m'\u001b[39m, \u001b[38;5;28mround\u001b[39m(\u001b[38;5;241m100\u001b[39m\u001b[38;5;241m*\u001b[39mnp\u001b[38;5;241m.\u001b[39mmean(reward_lst),\u001b[38;5;241m1\u001b[39m))\n",
      "Input \u001b[1;32mIn [4]\u001b[0m, in \u001b[0;36mAgent.replay\u001b[1;34m(self, batch_size)\u001b[0m\n\u001b[0;32m     40\u001b[0m     target_f\u001b[38;5;241m=\u001b[39m \u001b[38;5;28mself\u001b[39m\u001b[38;5;241m.\u001b[39mmodel\u001b[38;5;241m.\u001b[39mpredict(state)\n\u001b[0;32m     41\u001b[0m     target_f[\u001b[38;5;241m0\u001b[39m][action]\u001b[38;5;241m=\u001b[39m target\n\u001b[1;32m---> 42\u001b[0m     \u001b[38;5;28;43mself\u001b[39;49m\u001b[38;5;241;43m.\u001b[39;49m\u001b[43mmodel\u001b[49m\u001b[38;5;241;43m.\u001b[39;49m\u001b[43mfit\u001b[49m\u001b[43m(\u001b[49m\u001b[43mstate\u001b[49m\u001b[43m,\u001b[49m\u001b[43m \u001b[49m\u001b[43mtarget_f\u001b[49m\u001b[43m,\u001b[49m\u001b[43m \u001b[49m\u001b[43mepochs\u001b[49m\u001b[38;5;241;43m=\u001b[39;49m\u001b[38;5;241;43m1\u001b[39;49m\u001b[43m,\u001b[49m\u001b[43m \u001b[49m\u001b[43mverbose\u001b[49m\u001b[38;5;241;43m=\u001b[39;49m\u001b[38;5;241;43m0\u001b[39;49m\u001b[43m)\u001b[49m\n\u001b[0;32m     44\u001b[0m \u001b[38;5;28;01mif\u001b[39;00m \u001b[38;5;28mself\u001b[39m\u001b[38;5;241m.\u001b[39mepsilon \u001b[38;5;241m>\u001b[39m \u001b[38;5;28mself\u001b[39m\u001b[38;5;241m.\u001b[39mmin_eps:\n\u001b[0;32m     45\u001b[0m     \u001b[38;5;28mself\u001b[39m\u001b[38;5;241m.\u001b[39mepsilon\u001b[38;5;241m=\u001b[39m(\u001b[38;5;28mself\u001b[39m\u001b[38;5;241m.\u001b[39mmax_eps \u001b[38;5;241m-\u001b[39m \u001b[38;5;28mself\u001b[39m\u001b[38;5;241m.\u001b[39mmin_eps) \u001b[38;5;241m*\u001b[39m np\u001b[38;5;241m.\u001b[39mexp(\u001b[38;5;241m-\u001b[39m\u001b[38;5;28mself\u001b[39m\u001b[38;5;241m.\u001b[39meps_decay\u001b[38;5;241m*\u001b[39mepisode) \u001b[38;5;241m+\u001b[39m \u001b[38;5;28mself\u001b[39m\u001b[38;5;241m.\u001b[39mmin_eps\n",
      "File \u001b[1;32mc:\\users\\madsh\\desktop\\eaa\\softdev\\ai_automa\\venv\\lib\\site-packages\\keras\\utils\\traceback_utils.py:64\u001b[0m, in \u001b[0;36mfilter_traceback.<locals>.error_handler\u001b[1;34m(*args, **kwargs)\u001b[0m\n\u001b[0;32m     62\u001b[0m filtered_tb \u001b[38;5;241m=\u001b[39m \u001b[38;5;28;01mNone\u001b[39;00m\n\u001b[0;32m     63\u001b[0m \u001b[38;5;28;01mtry\u001b[39;00m:\n\u001b[1;32m---> 64\u001b[0m   \u001b[38;5;28;01mreturn\u001b[39;00m fn(\u001b[38;5;241m*\u001b[39margs, \u001b[38;5;241m*\u001b[39m\u001b[38;5;241m*\u001b[39mkwargs)\n\u001b[0;32m     65\u001b[0m \u001b[38;5;28;01mexcept\u001b[39;00m \u001b[38;5;167;01mException\u001b[39;00m \u001b[38;5;28;01mas\u001b[39;00m e:  \u001b[38;5;66;03m# pylint: disable=broad-except\u001b[39;00m\n\u001b[0;32m     66\u001b[0m   filtered_tb \u001b[38;5;241m=\u001b[39m _process_traceback_frames(e\u001b[38;5;241m.\u001b[39m__traceback__)\n",
      "\u001b[1;31mKeyboardInterrupt\u001b[0m: "
     ]
    }
   ],
   "source": [
    "reward_lst=[]\n",
    "for episode in range(train_episodes):\n",
    "    state= env.reset()\n",
    "    state_arr=np.zeros(state_size)\n",
    "    state_arr[state] = 1\n",
    "    state= np.reshape(state_arr, [1, state_size])\n",
    "    reward = 0\n",
    "    done = False\n",
    "    for t in range(max_steps):\n",
    "        # env.render()\n",
    "        action = agent.action(state)\n",
    "        new_state, reward, done, info = env.step(action)\n",
    "        new_state_arr = np.zeros(state_size)\n",
    "        new_state_arr[new_state] = 1\n",
    "        new_state = np.reshape(new_state_arr, [1, state_size])\n",
    "        agent.add_memory(new_state, reward, done, state, action)\n",
    "        state= new_state\n",
    "\n",
    "        if done:\n",
    "            print(f'Episode: {episode:4}/{train_episodes} and step: {t:4}. Eps: {float(agent.epsilon):.2}, reward {reward}')\n",
    "            break\n",
    "\n",
    "    reward_lst.append(reward)\n",
    "\n",
    "    if len(agent.memory)> batch_size:\n",
    "        agent.replay(batch_size)\n",
    "\n",
    "print(' Train mean % score= ', round(100*np.mean(reward_lst),1))"
   ]
  },
  {
   "cell_type": "code",
   "execution_count": 74,
   "id": "750db300",
   "metadata": {},
   "outputs": [
    {
     "data": {
      "text/plain": [
       "Text(0.5, 0, 'Episode')"
      ]
     },
     "execution_count": 74,
     "metadata": {},
     "output_type": "execute_result"
    },
    {
     "data": {
      "image/png": "[encoded data removed]",
      "text/plain": [
       "<Figure size 720x864 with 1 Axes>"
      ]
     },
     "metadata": {
      "needs_background": "light"
     },
     "output_type": "display_data"
    }
   ],
   "source": [
    "fig=plt.figure(figsize=(10,12))\n",
    "matplotlib.rcParams.clear()\n",
    "matplotlib.rcParams.update({'font.size': 22})\n",
    "plt.subplot(311)\n",
    "plt.scatter(list(range(len(reward_lst))), reward_lst, s=0.2)\n",
    "plt.title('3x3 Frozen Lake Result(DQN) \\n \\nTrain Score')\n",
    "plt.ylabel('Score')\n",
    "plt.xlabel('Episode')"
   ]
  },
  {
   "cell_type": "code",
   "execution_count": null,
   "id": "ed4511ca",
   "metadata": {},
   "outputs": [],
   "source": []
  }
 ],
 "metadata": {
  "kernelspec": {
   "display_name": "Python 3 (ipykernel)",
   "language": "python",
   "name": "python3"
  },
  "language_info": {
   "codemirror_mode": {
    "name": "ipython",
    "version": 3
   },
   "file_extension": ".py",
   "mimetype": "text/x-python",
   "name": "python",
   "nbconvert_exporter": "python",
   "pygments_lexer": "ipython3",
   "version": "3.9.12"
  }
 },
 "nbformat": 4,
 "nbformat_minor": 5
}
