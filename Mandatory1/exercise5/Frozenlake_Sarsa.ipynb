{
 "cells": [
  {
   "cell_type": "code",
   "execution_count": 3,
   "id": "097817de",
   "metadata": {},
   "outputs": [],
   "source": [
    "import gym\n",
    "import numpy as np\n",
    "import random\n",
    "import matplotlib.pyplot as plt\n",
    "import time \n",
    "from IPython.display import clear_output"
   ]
  },
  {
   "cell_type": "code",
   "execution_count": 5,
   "id": "c65ed578",
   "metadata": {},
   "outputs": [],
   "source": [
    "env = gym.make(\"FrozenLake-v1\")\n",
    "\n",
    "action_space_size = env.action_space.n\n",
    "state_space_size = env.observation_space.n"
   ]
  },
  {
   "cell_type": "code",
   "execution_count": 6,
   "id": "3039c0bc",
   "metadata": {},
   "outputs": [
    {
     "name": "stdout",
     "output_type": "stream",
     "text": [
      "[[0. 0. 0. 0.]\n",
      " [0. 0. 0. 0.]\n",
      " [0. 0. 0. 0.]\n",
      " [0. 0. 0. 0.]\n",
      " [0. 0. 0. 0.]\n",
      " [0. 0. 0. 0.]\n",
      " [0. 0. 0. 0.]\n",
      " [0. 0. 0. 0.]\n",
      " [0. 0. 0. 0.]\n",
      " [0. 0. 0. 0.]\n",
      " [0. 0. 0. 0.]\n",
      " [0. 0. 0. 0.]\n",
      " [0. 0. 0. 0.]\n",
      " [0. 0. 0. 0.]\n",
      " [0. 0. 0. 0.]\n",
      " [0. 0. 0. 0.]]\n"
     ]
    }
   ],
   "source": [
    "Q_table = np.zeros((state_space_size, action_space_size))\n",
    "\n",
    "print(Q_table)"
   ]
  },
  {
   "cell_type": "code",
   "execution_count": 7,
   "id": "7469aa3c",
   "metadata": {},
   "outputs": [],
   "source": [
    "num_of_episodes = 20000\n",
    "max_steps_per_episode = 200\n",
    "\n",
    "learning_rate = 0.01\n",
    "discount_rate = 0.99\n",
    "\n",
    "exploration_rate = 1"
   ]
  },
  {
   "cell_type": "code",
   "execution_count": 8,
   "id": "1de35dd8",
   "metadata": {},
   "outputs": [],
   "source": [
    "def choose_action(state):\n",
    "    random_number = random.uniform(0,1)\n",
    "    if random_number > exploration_rate:\n",
    "        action = np.argmax(Q_table[state,:]) \n",
    "    else:\n",
    "        action = env.action_space.sample() \n",
    "    return action"
   ]
  },
  {
   "cell_type": "code",
   "execution_count": 12,
   "id": "cb0d2087",
   "metadata": {},
   "outputs": [],
   "source": [
    "rewards_of_all_episodes = []\n",
    "\n",
    "for episode in range(num_of_episodes):\n",
    "    state = env.reset()\n",
    "    action = choose_action(state)\n",
    "    done = False\n",
    "    rewards_current_episode = 0\n",
    "    \n",
    "    for step in range(max_steps_per_episode):\n",
    "        \n",
    "        state2, reward, done, info = env.step(action)\n",
    "        \n",
    "        action2 = choose_action(state2)\n",
    "        \n",
    "        # Sarsa update\n",
    "        Q_table[state, action] = Q_table[state, action] + learning_rate * \\\n",
    "        ((reward + discount_rate * Q_table[state2, action2]) - Q_table[state, action])\n",
    "\n",
    "        state = state2\n",
    "        action = action2\n",
    "        rewards_current_episode = rewards_current_episode + reward\n",
    "        \n",
    "        if done == True:\n",
    "            break\n",
    "                \n",
    "    exploration_rate = 1 - np.log(episode + 1) / np.log(num_of_episodes + 1)\n",
    "    #print(exploration_rate)\n",
    "        \n",
    "    rewards_of_all_episodes.append(rewards_current_episode)  "
   ]
  },
  {
   "cell_type": "code",
   "execution_count": 13,
   "id": "247ecfb1",
   "metadata": {},
   "outputs": [
    {
     "name": "stdout",
     "output_type": "stream",
     "text": [
      "Average reward per thousand episodes \n",
      "\n",
      "1000 : 0.108\n",
      "2000 : 0.172\n",
      "3000 : 0.25\n",
      "4000 : 0.31\n",
      "5000 : 0.325\n",
      "6000 : 0.347\n",
      "7000 : 0.384\n",
      "8000 : 0.407\n",
      "9000 : 0.417\n",
      "10000 : 0.471\n",
      "11000 : 0.509\n",
      "12000 : 0.528\n",
      "13000 : 0.526\n",
      "14000 : 0.536\n",
      "15000 : 0.61\n",
      "16000 : 0.597\n",
      "17000 : 0.662\n",
      "18000 : 0.674\n",
      "19000 : 0.718\n",
      "20000 : 0.722\n"
     ]
    },
    {
     "data": {
      "image/png": "[encoded data removed]",
      "text/plain": [
       "<Figure size 720x288 with 1 Axes>"
      ]
     },
     "metadata": {
      "needs_background": "light"
     },
     "output_type": "display_data"
    },
    {
     "name": "stdout",
     "output_type": "stream",
     "text": [
      "\n",
      "\n",
      "Q Table:\n",
      "[[0.52986979 0.43496024 0.42945547 0.42063957]\n",
      " [0.1609728  0.14961193 0.14510876 0.42828902]\n",
      " [0.36384063 0.16150222 0.15649533 0.16367638]\n",
      " [0.02352754 0.10362056 0.01289934 0.02276725]\n",
      " [0.54695512 0.35808436 0.32532576 0.28203105]\n",
      " [0.         0.         0.         0.        ]\n",
      " [0.30958613 0.12944993 0.19313638 0.06660894]\n",
      " [0.         0.         0.         0.        ]\n",
      " [0.33260172 0.32300412 0.3418255  0.57668388]\n",
      " [0.38271537 0.63275323 0.39610128 0.33247128]\n",
      " [0.6042847  0.42294073 0.31573475 0.22791438]\n",
      " [0.         0.         0.         0.        ]\n",
      " [0.         0.         0.         0.        ]\n",
      " [0.34330906 0.4880324  0.73462104 0.38117151]\n",
      " [0.62358349 0.85683674 0.77215828 0.71444938]\n",
      " [0.         0.         0.         0.        ]]\n"
     ]
    }
   ],
   "source": [
    "rewards_per_thousand_episodes = np.split(np.array(rewards_of_all_episodes),\n",
    "                               num_of_episodes/1000)\n",
    "\n",
    "reward_value_list = []\n",
    "\n",
    "count = 1000\n",
    "print(\"Average reward per thousand episodes \\n\")\n",
    "for i in rewards_per_thousand_episodes:\n",
    "    print(count, \":\", str(sum(i) / 1000))\n",
    "    \n",
    "    current_reward_value = sum(i) / 1000\n",
    "    reward_value_list.append(current_reward_value)\n",
    "    count = count + 1000\n",
    "    \n",
    "    \n",
    "plt.figure(figsize=(10,4))\n",
    "plt.ylim(0,1)\n",
    "\n",
    "plt.plot(reward_value_list, 'b', label='Training loss')\n",
    "plt.xlabel('Episodes in thousands')\n",
    "plt.ylabel('Rewards')\n",
    "#plt.legend()\n",
    "plt.show()\n",
    "\n",
    "    \n",
    "\n",
    "print(\"\\n\")\n",
    "print(\"Q Table:\")\n",
    "print(Q_table)"
   ]
  },
  {
   "cell_type": "code",
   "execution_count": null,
   "id": "23546b18",
   "metadata": {},
   "outputs": [],
   "source": []
  }
 ],
 "metadata": {
  "kernelspec": {
   "display_name": "Python 3 (ipykernel)",
   "language": "python",
   "name": "python3"
  },
  "language_info": {
   "codemirror_mode": {
    "name": "ipython",
    "version": 3
   },
   "file_extension": ".py",
   "mimetype": "text/x-python",
   "name": "python",
   "nbconvert_exporter": "python",
   "pygments_lexer": "ipython3",
   "version": "3.10.2"
  }
 },
 "nbformat": 4,
 "nbformat_minor": 5
}
