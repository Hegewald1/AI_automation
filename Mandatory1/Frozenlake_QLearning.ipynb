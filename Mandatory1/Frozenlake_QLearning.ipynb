{
 "cells": [
  {
   "cell_type": "code",
   "execution_count": 1,
   "id": "79f26544",
   "metadata": {},
   "outputs": [],
   "source": [
    "import gym\n",
    "import numpy as np\n",
    "import random\n",
    "import matplotlib.pyplot as plt\n",
    "import time \n",
    "from IPython.display import clear_output"
   ]
  },
  {
   "cell_type": "code",
   "execution_count": 2,
   "id": "aba740ee",
   "metadata": {},
   "outputs": [],
   "source": [
    "env = gym.make(\"FrozenLake-v1\")\n",
    "\n",
    "action_space_size = env.action_space.n\n",
    "state_space_size = env.observation_space.n"
   ]
  },
  {
   "cell_type": "code",
   "execution_count": 3,
   "id": "6a1a335a",
   "metadata": {},
   "outputs": [
    {
     "name": "stdout",
     "output_type": "stream",
     "text": [
      "[[0. 0. 0. 0.]\n",
      " [0. 0. 0. 0.]\n",
      " [0. 0. 0. 0.]\n",
      " [0. 0. 0. 0.]\n",
      " [0. 0. 0. 0.]\n",
      " [0. 0. 0. 0.]\n",
      " [0. 0. 0. 0.]\n",
      " [0. 0. 0. 0.]\n",
      " [0. 0. 0. 0.]\n",
      " [0. 0. 0. 0.]\n",
      " [0. 0. 0. 0.]\n",
      " [0. 0. 0. 0.]\n",
      " [0. 0. 0. 0.]\n",
      " [0. 0. 0. 0.]\n",
      " [0. 0. 0. 0.]\n",
      " [0. 0. 0. 0.]]\n"
     ]
    }
   ],
   "source": [
    "Q_table = np.zeros((state_space_size, action_space_size))\n",
    "\n",
    "print(Q_table)"
   ]
  },
  {
   "cell_type": "code",
   "execution_count": 4,
   "id": "ef4889b8",
   "metadata": {},
   "outputs": [],
   "source": [
    "num_of_episodes = 20000\n",
    "max_steps_per_episode = 200\n",
    "\n",
    "learning_rate = 0.1\n",
    "discount_rate = 0.99\n",
    "\n",
    "exploration_rate = 1"
   ]
  },
  {
   "cell_type": "code",
   "execution_count": 5,
   "id": "9e367596",
   "metadata": {},
   "outputs": [],
   "source": [
    "rewards_of_all_episodes = []\n",
    "\n",
    "for episode in range(num_of_episodes):\n",
    "    state = env.reset()\n",
    "        \n",
    "    done = False\n",
    "    rewards_current_episode = 0\n",
    "    \n",
    "    for step in range(max_steps_per_episode):\n",
    "        \n",
    "        random_number = random.uniform(0,1)\n",
    "        \n",
    "        if random_number > exploration_rate:\n",
    "            action = np.argmax(Q_table[state,:]) \n",
    "            \n",
    "        else:\n",
    "            action = env.action_space.sample() \n",
    "        \n",
    "        new_state, reward, done, info = env.step(action)\n",
    "\n",
    "        Q_table[state, action] = Q_table[state, action] * (1 - learning_rate) \\\n",
    "        + learning_rate * (reward + discount_rate * np.max(Q_table[new_state,:]))\n",
    "\n",
    "        state = new_state\n",
    "        rewards_current_episode = rewards_current_episode + reward\n",
    "        \n",
    "        if done == True:\n",
    "            break\n",
    "                \n",
    "    exploration_rate = 1 - np.log(episode + 1) / np.log(num_of_episodes + 1)\n",
    "        \n",
    "    rewards_of_all_episodes.append(rewards_current_episode)  "
   ]
  },
  {
   "cell_type": "code",
   "execution_count": 6,
   "id": "700f79f6",
   "metadata": {},
   "outputs": [
    {
     "name": "stdout",
     "output_type": "stream",
     "text": [
      "Average reward per thousand episodes \n",
      "\n",
      "1000 : 0.095\n",
      "2000 : 0.199\n",
      "3000 : 0.207\n",
      "4000 : 0.277\n",
      "5000 : 0.324\n",
      "6000 : 0.317\n",
      "7000 : 0.315\n",
      "8000 : 0.389\n",
      "9000 : 0.423\n",
      "10000 : 0.455\n",
      "11000 : 0.442\n",
      "12000 : 0.526\n",
      "13000 : 0.537\n",
      "14000 : 0.56\n",
      "15000 : 0.543\n",
      "16000 : 0.603\n",
      "17000 : 0.641\n",
      "18000 : 0.655\n",
      "19000 : 0.701\n",
      "20000 : 0.748\n"
     ]
    },
    {
     "data": {
      "image/png": "[encoded data removed]",
      "text/plain": [
       "<Figure size 720x288 with 1 Axes>"
      ]
     },
     "metadata": {
      "needs_background": "light"
     },
     "output_type": "display_data"
    },
    {
     "name": "stdout",
     "output_type": "stream",
     "text": [
      "\n",
      "\n",
      "Q Table:\n",
      "[[0.59931903 0.48899054 0.49258584 0.49062601]\n",
      " [0.40786768 0.34405345 0.29736172 0.51288819]\n",
      " [0.42099309 0.40880914 0.38589552 0.47616298]\n",
      " [0.33705928 0.33671123 0.29441454 0.46098865]\n",
      " [0.6188628  0.40567692 0.40327806 0.34678276]\n",
      " [0.         0.         0.         0.        ]\n",
      " [0.1725666  0.16553237 0.22328684 0.15279034]\n",
      " [0.         0.         0.         0.        ]\n",
      " [0.45364317 0.39447714 0.41284274 0.64152736]\n",
      " [0.32790416 0.6954633  0.40558977 0.39462899]\n",
      " [0.62273946 0.41190713 0.37737819 0.41144199]\n",
      " [0.         0.         0.         0.        ]\n",
      " [0.         0.         0.         0.        ]\n",
      " [0.43707472 0.42355588 0.80614864 0.4053731 ]\n",
      " [0.75542095 0.89074158 0.69122797 0.73667027]\n",
      " [0.         0.         0.         0.        ]]\n"
     ]
    }
   ],
   "source": [
    "rewards_per_thousand_episodes = np.split(np.array(rewards_of_all_episodes),\n",
    "                               num_of_episodes/1000)\n",
    "\n",
    "reward_value_list = []\n",
    "\n",
    "count = 1000\n",
    "print(\"Average reward per thousand episodes \\n\")\n",
    "for i in rewards_per_thousand_episodes:\n",
    "    print(count, \":\", str(sum(i) / 1000))\n",
    "    \n",
    "    current_reward_value = sum(i) / 1000\n",
    "    reward_value_list.append(current_reward_value)\n",
    "    count = count + 1000\n",
    "    \n",
    "    \n",
    "plt.figure(figsize=(10,4))\n",
    "plt.ylim(0,1)\n",
    "\n",
    "plt.plot(reward_value_list, 'b', label='Training loss')\n",
    "plt.xlabel('Episodes in thousands')\n",
    "plt.ylabel('Rewards')\n",
    "#plt.legend()\n",
    "plt.show()\n",
    "\n",
    "    \n",
    "\n",
    "print(\"\\n\")\n",
    "print(\"Q Table:\")\n",
    "print(Q_table)"
   ]
  },
  {
   "cell_type": "code",
   "execution_count": null,
   "id": "4b0cace8",
   "metadata": {},
   "outputs": [],
   "source": []
  }
 ],
 "metadata": {
  "kernelspec": {
   "display_name": "Python 3 (ipykernel)",
   "language": "python",
   "name": "python3"
  },
  "language_info": {
   "codemirror_mode": {
    "name": "ipython",
    "version": 3
   },
   "file_extension": ".py",
   "mimetype": "text/x-python",
   "name": "python",
   "nbconvert_exporter": "python",
   "pygments_lexer": "ipython3",
   "version": "3.7.7"
  }
 },
 "nbformat": 4,
 "nbformat_minor": 5
}
